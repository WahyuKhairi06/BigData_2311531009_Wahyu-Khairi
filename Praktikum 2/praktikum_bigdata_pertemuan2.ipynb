{
  "nbformat": 4,
  "nbformat_minor": 0,
  "metadata": {
    "colab": {
      "provenance": [],
      "authorship_tag": "ABX9TyPW35RbzIln1rOWCHLuyHC0",
      "include_colab_link": true
    },
    "kernelspec": {
      "name": "python3",
      "display_name": "Python 3"
    },
    "language_info": {
      "name": "python"
    }
  },
  "cells": [
    {
      "cell_type": "markdown",
      "metadata": {
        "id": "view-in-github",
        "colab_type": "text"
      },
      "source": [
        "<a href=\"https://colab.research.google.com/github/WahyuKhairi06/BigData_2311531009_Wahyu-Khairi/blob/main/Praktikum%202/praktikum_bigdata_pertemuan2.ipynb\" target=\"_parent\"><img src=\"https://colab.research.google.com/assets/colab-badge.svg\" alt=\"Open In Colab\"/></a>"
      ]
    },
    {
      "cell_type": "code",
      "execution_count": 167,
      "metadata": {
        "id": "Y538mkQxaOtE"
      },
      "outputs": [],
      "source": [
        "import requests\n",
        "from bs4 import BeautifulSoup\n",
        "import csv"
      ]
    },
    {
      "cell_type": "code",
      "source": [
        "base_url = \"https://quotes.toscrape.com\"\n",
        "all_quotes_data = []\n",
        "\n",
        "for page in range(1, 4):\n",
        "    url = base_url.format(page)\n",
        "    response = requests.get(url)\n",
        "\n",
        "    soup = BeautifulSoup(response.text, \"html.parser\")\n",
        "\n",
        "    quotes = soup.find_all(\"div\", class_=\"quote\")\n",
        "\n",
        "    for quote in quotes:\n",
        "        text = quote.find(\"span\", class_=\"text\").text\n",
        "        author = quote.find(\"small\", class_=\"author\").text\n",
        "        tags = [tag.text for tag in quote.find_all(\"a\", class_=\"tag\")]\n",
        "        all_quotes_data.append({\"Quote\": text, \"Author\": author, \"Tags\": \", \".join(tags)})"
      ],
      "metadata": {
        "id": "H8acQQM_aguE"
      },
      "execution_count": 168,
      "outputs": []
    },
    {
      "cell_type": "code",
      "source": [
        "quotes = soup.find_all(\"span\", class_=\"text\")\n",
        "authors = soup.find_all(\"small\", class_=\"author\")"
      ],
      "metadata": {
        "id": "HR_xvchBbvwm"
      },
      "execution_count": 169,
      "outputs": []
    },
    {
      "cell_type": "code",
      "source": [
        "with open(\"quotes2.csv\", \"w\", newline=\"\", encoding=\"utf-8\") as file:\n",
        "    writer = csv.DictWriter(file, fieldnames=[\"Quote\", \"Author\", \"Tags\"])\n",
        "    writer.writeheader()\n",
        "    for quote_data in all_quotes_data:\n",
        "        writer.writerow(quote_data)\n",
        "\n",
        "print(\"Scraping selesai, data tersimpan di quotes2.csv\")"
      ],
      "metadata": {
        "colab": {
          "base_uri": "https://localhost:8080/"
        },
        "id": "M0pfnYnPcVZJ",
        "outputId": "1cf3e8af-405a-483c-d223-4c64973ed75c"
      },
      "execution_count": 170,
      "outputs": [
        {
          "output_type": "stream",
          "name": "stdout",
          "text": [
            "Scraping selesai, data tersimpan di quotes2.csv\n"
          ]
        }
      ]
    }
  ]
}