{
  "nbformat": 4,
  "nbformat_minor": 0,
  "metadata": {
    "colab": {
      "provenance": [],
      "authorship_tag": "ABX9TyNH8TkMD5YV4e/30OOH302Q",
      "include_colab_link": true
    },
    "kernelspec": {
      "name": "python3",
      "display_name": "Python 3"
    },
    "language_info": {
      "name": "python"
    }
  },
  "cells": [
    {
      "cell_type": "markdown",
      "metadata": {
        "id": "view-in-github",
        "colab_type": "text"
      },
      "source": [
        "<a href=\"https://colab.research.google.com/github/WahyuKhairi06/BigData_2311531009_Wahyu-Khairi/blob/main/Praktikum%202/tugas%202%20praktikum_bigdata_pertemuan2.ipynb\" target=\"_parent\"><img src=\"https://colab.research.google.com/assets/colab-badge.svg\" alt=\"Open In Colab\"/></a>"
      ]
    },
    {
      "cell_type": "markdown",
      "source": [
        "# **Import Library**"
      ],
      "metadata": {
        "id": "C9p8z7ZKckNk"
      }
    },
    {
      "cell_type": "code",
      "execution_count": 4,
      "metadata": {
        "id": "Y538mkQxaOtE"
      },
      "outputs": [],
      "source": [
        "import requests\n",
        "from bs4 import BeautifulSoup\n",
        "import csv"
      ]
    },
    {
      "cell_type": "code",
      "source": [
        "#Menyimpan URL dasar website yang akan di-scrape.\n",
        "base_url = \"https://quotes.toscrape.com\"\n",
        "all_quotes_data = [] #Membuat list kosong untuk menyimpan data\n",
        "\n",
        "#buat perulangan untuk membaca 3 halaman website quotestoscrape\n",
        "for page in range(1, 4):\n",
        "    url = base_url.format(page)\n",
        "    response = requests.get(url)\n",
        "\n",
        "#Parsing HTML hasil response agar bisa dicari elemennya.\n",
        "    soup = BeautifulSoup(response.text, \"html.parser\")\n",
        "\n",
        "#Mencari semua blok <div class=\"quote\">\n",
        "    quotes = soup.find_all(\"div\", class_=\"quote\")\n",
        "\n",
        "#melakukan perulangan untuk mengambil quote, author dan juga tag pada website\n",
        "    for quote in quotes:\n",
        "        text = quote.find(\"span\", class_=\"text\").text\n",
        "        author = quote.find(\"small\", class_=\"author\").text\n",
        "        tags = [tag.text for tag in quote.find_all(\"a\", class_=\"tag\")]\n",
        "        all_quotes_data.append({\"Quote\": text, \"Author\": author, \"Tags\": \", \".join(tags)}) #menyimpan data ke list"
      ],
      "metadata": {
        "id": "H8acQQM_aguE"
      },
      "execution_count": 5,
      "outputs": []
    },
    {
      "cell_type": "code",
      "source": [
        "#menyimpan file kedalam CSV\n",
        "with open(\"quotes2.csv\", \"w\", newline=\"\", encoding=\"utf-8\") as file:\n",
        "    writer = csv.DictWriter(file, fieldnames=[\"Quote\", \"Author\", \"Tags\"])\n",
        "    writer.writeheader()\n",
        "    for quote_data in all_quotes_data:\n",
        "        writer.writerow(quote_data)\n",
        "\n",
        "print(\"Scraping selesai, data tersimpan di quotes2.csv\")"
      ],
      "metadata": {
        "colab": {
          "base_uri": "https://localhost:8080/"
        },
        "id": "M0pfnYnPcVZJ",
        "outputId": "f7de825c-0427-4ed5-c842-f5e476b97617"
      },
      "execution_count": 6,
      "outputs": [
        {
          "output_type": "stream",
          "name": "stdout",
          "text": [
            "Scraping selesai, data tersimpan di quotes2.csv\n"
          ]
        }
      ]
    },
    {
      "cell_type": "markdown",
      "source": [
        "# **Analisa sederhana**"
      ],
      "metadata": {
        "id": "It6kPyqdgP0p"
      }
    },
    {
      "cell_type": "markdown",
      "source": [
        "**penulis kutipan terbanyak**"
      ],
      "metadata": {
        "id": "d_BzajeWgsIa"
      }
    },
    {
      "cell_type": "code",
      "source": [
        "import pandas as pd\n",
        "\n",
        "df = pd.read_csv(\"quotes2.csv\")\n",
        "\n",
        "# Hitung jumlah kutipan per penulis\n",
        "author_counts = df['Author'].value_counts()\n",
        "\n",
        "# mencari siapa penulis terbanyak\n",
        "most_prolific_author = author_counts.idxmax()\n",
        "num_quotes = author_counts.max()\n",
        "\n",
        "print(f\"Penulis dengan jumlah kutipan terbanyak adalah: {most_prolific_author} dengan {num_quotes} kutipan.\")"
      ],
      "metadata": {
        "colab": {
          "base_uri": "https://localhost:8080/"
        },
        "id": "8OUdGzOCgPHG",
        "outputId": "4fb83b41-aace-4370-ec05-a4ea35797f2d"
      },
      "execution_count": 8,
      "outputs": [
        {
          "output_type": "stream",
          "name": "stdout",
          "text": [
            "Penulis dengan jumlah kutipan terbanyak adalah: Albert Einstein dengan 9 kutipan.\n"
          ]
        }
      ]
    },
    {
      "cell_type": "markdown",
      "source": [
        "**tag yang sering muncul**"
      ],
      "metadata": {
        "id": "tfFpH7uIgxSw"
      }
    },
    {
      "cell_type": "code",
      "source": [
        "# memisahkan tag dan menghitung quantity tags\n",
        "all_tags = df['Tags'].str.split(', ').explode()\n",
        "tag_counts = all_tags.value_counts()\n",
        "\n",
        "# menghitung tag dan juga mengurutkan nya dari yang terbanyak\n",
        "print(\"Tag yang paling sering muncul (diurutkan):\")\n",
        "display(tag_counts)"
      ],
      "metadata": {
        "colab": {
          "base_uri": "https://localhost:8080/",
          "height": 948
        },
        "id": "C7jTiWUdgw_F",
        "outputId": "26145b55-6a8b-4ead-92e2-521a0574c5e8"
      },
      "execution_count": 9,
      "outputs": [
        {
          "output_type": "stream",
          "name": "stdout",
          "text": [
            "Tag yang paling sering muncul (diurutkan):\n"
          ]
        },
        {
          "output_type": "display_data",
          "data": {
            "text/plain": [
              "Tags\n",
              "inspirational                      9\n",
              "life                               6\n",
              "humor                              6\n",
              "deep-thoughts                      3\n",
              "thinking                           3\n",
              "change                             3\n",
              "choices                            3\n",
              "abilities                          3\n",
              "live                               3\n",
              "world                              3\n",
              "miracle                            3\n",
              "miracles                           3\n",
              "books                              3\n",
              "aliteracy                          3\n",
              "classic                            3\n",
              "be-yourself                        3\n",
              "adulthood                          3\n",
              "success                            3\n",
              "value                              3\n",
              "love                               3\n",
              "edison                             3\n",
              "failure                            3\n",
              "paraphrased                        3\n",
              "misattributed-eleanor-roosevelt    3\n",
              "obvious                            3\n",
              "simile                             3\n",
              "Name: count, dtype: int64"
            ],
            "text/html": [
              "<div>\n",
              "<style scoped>\n",
              "    .dataframe tbody tr th:only-of-type {\n",
              "        vertical-align: middle;\n",
              "    }\n",
              "\n",
              "    .dataframe tbody tr th {\n",
              "        vertical-align: top;\n",
              "    }\n",
              "\n",
              "    .dataframe thead th {\n",
              "        text-align: right;\n",
              "    }\n",
              "</style>\n",
              "<table border=\"1\" class=\"dataframe\">\n",
              "  <thead>\n",
              "    <tr style=\"text-align: right;\">\n",
              "      <th></th>\n",
              "      <th>count</th>\n",
              "    </tr>\n",
              "    <tr>\n",
              "      <th>Tags</th>\n",
              "      <th></th>\n",
              "    </tr>\n",
              "  </thead>\n",
              "  <tbody>\n",
              "    <tr>\n",
              "      <th>inspirational</th>\n",
              "      <td>9</td>\n",
              "    </tr>\n",
              "    <tr>\n",
              "      <th>life</th>\n",
              "      <td>6</td>\n",
              "    </tr>\n",
              "    <tr>\n",
              "      <th>humor</th>\n",
              "      <td>6</td>\n",
              "    </tr>\n",
              "    <tr>\n",
              "      <th>deep-thoughts</th>\n",
              "      <td>3</td>\n",
              "    </tr>\n",
              "    <tr>\n",
              "      <th>thinking</th>\n",
              "      <td>3</td>\n",
              "    </tr>\n",
              "    <tr>\n",
              "      <th>change</th>\n",
              "      <td>3</td>\n",
              "    </tr>\n",
              "    <tr>\n",
              "      <th>choices</th>\n",
              "      <td>3</td>\n",
              "    </tr>\n",
              "    <tr>\n",
              "      <th>abilities</th>\n",
              "      <td>3</td>\n",
              "    </tr>\n",
              "    <tr>\n",
              "      <th>live</th>\n",
              "      <td>3</td>\n",
              "    </tr>\n",
              "    <tr>\n",
              "      <th>world</th>\n",
              "      <td>3</td>\n",
              "    </tr>\n",
              "    <tr>\n",
              "      <th>miracle</th>\n",
              "      <td>3</td>\n",
              "    </tr>\n",
              "    <tr>\n",
              "      <th>miracles</th>\n",
              "      <td>3</td>\n",
              "    </tr>\n",
              "    <tr>\n",
              "      <th>books</th>\n",
              "      <td>3</td>\n",
              "    </tr>\n",
              "    <tr>\n",
              "      <th>aliteracy</th>\n",
              "      <td>3</td>\n",
              "    </tr>\n",
              "    <tr>\n",
              "      <th>classic</th>\n",
              "      <td>3</td>\n",
              "    </tr>\n",
              "    <tr>\n",
              "      <th>be-yourself</th>\n",
              "      <td>3</td>\n",
              "    </tr>\n",
              "    <tr>\n",
              "      <th>adulthood</th>\n",
              "      <td>3</td>\n",
              "    </tr>\n",
              "    <tr>\n",
              "      <th>success</th>\n",
              "      <td>3</td>\n",
              "    </tr>\n",
              "    <tr>\n",
              "      <th>value</th>\n",
              "      <td>3</td>\n",
              "    </tr>\n",
              "    <tr>\n",
              "      <th>love</th>\n",
              "      <td>3</td>\n",
              "    </tr>\n",
              "    <tr>\n",
              "      <th>edison</th>\n",
              "      <td>3</td>\n",
              "    </tr>\n",
              "    <tr>\n",
              "      <th>failure</th>\n",
              "      <td>3</td>\n",
              "    </tr>\n",
              "    <tr>\n",
              "      <th>paraphrased</th>\n",
              "      <td>3</td>\n",
              "    </tr>\n",
              "    <tr>\n",
              "      <th>misattributed-eleanor-roosevelt</th>\n",
              "      <td>3</td>\n",
              "    </tr>\n",
              "    <tr>\n",
              "      <th>obvious</th>\n",
              "      <td>3</td>\n",
              "    </tr>\n",
              "    <tr>\n",
              "      <th>simile</th>\n",
              "      <td>3</td>\n",
              "    </tr>\n",
              "  </tbody>\n",
              "</table>\n",
              "</div><br><label><b>dtype:</b> int64</label>"
            ]
          },
          "metadata": {}
        }
      ]
    },
    {
      "cell_type": "markdown",
      "source": [
        "# **visualisasi**"
      ],
      "metadata": {
        "id": "NccaSlsPh8Aq"
      }
    },
    {
      "cell_type": "code",
      "source": [
        "import matplotlib.pyplot as plt\n",
        "import seaborn as sns\n",
        "\n",
        "# Ambil 10 tag teratas\n",
        "top_tags = tag_counts.head(10)\n",
        "\n",
        "# Buat bar plot\n",
        "plt.figure(figsize=(10, 6))\n",
        "sns.barplot(x=top_tags.index, y=top_tags.values, palette=\"viridis\")\n",
        "plt.title('10 Tag yang Paling Sering Muncul')\n",
        "plt.xlabel('Tag')\n",
        "plt.ylabel('Jumlah Kemunculan')\n",
        "plt.xticks(rotation=45, ha='right')\n",
        "plt.tight_layout()\n",
        "plt.show()"
      ],
      "metadata": {
        "colab": {
          "base_uri": "https://localhost:8080/",
          "height": 717
        },
        "id": "Zaj1__1ph_AT",
        "outputId": "17886a6c-30c3-4016-d949-6819cab43aae"
      },
      "execution_count": 10,
      "outputs": [
        {
          "output_type": "stream",
          "name": "stderr",
          "text": [
            "/tmp/ipython-input-4240449573.py:9: FutureWarning: \n",
            "\n",
            "Passing `palette` without assigning `hue` is deprecated and will be removed in v0.14.0. Assign the `x` variable to `hue` and set `legend=False` for the same effect.\n",
            "\n",
            "  sns.barplot(x=top_tags.index, y=top_tags.values, palette=\"viridis\")\n"
          ]
        },
        {
          "output_type": "display_data",
          "data": {
            "text/plain": [
              "<Figure size 1000x600 with 1 Axes>"
            ],
            "image/png": "[encoded data removed]"
          },
          "metadata": {}
        }
      ]
    }
  ]
}