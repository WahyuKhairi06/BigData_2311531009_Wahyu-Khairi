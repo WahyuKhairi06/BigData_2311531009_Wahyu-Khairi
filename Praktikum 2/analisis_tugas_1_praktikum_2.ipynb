{
  "nbformat": 4,
  "nbformat_minor": 0,
  "metadata": {
    "colab": {
      "provenance": [],
      "authorship_tag": "ABX9TyP6B/3napkryxsV4t+8ruw+",
      "include_colab_link": true
    },
    "kernelspec": {
      "name": "python3",
      "display_name": "Python 3"
    },
    "language_info": {
      "name": "python"
    }
  },
  "cells": [
    {
      "cell_type": "markdown",
      "metadata": {
        "id": "view-in-github",
        "colab_type": "text"
      },
      "source": [
        "<a href=\"https://colab.research.google.com/github/WahyuKhairi06/BigData_2311531009_Wahyu-Khairi/blob/main/Praktikum%202/analisis_tugas_1_praktikum_2.ipynb\" target=\"_parent\"><img src=\"https://colab.research.google.com/assets/colab-badge.svg\" alt=\"Open In Colab\"/></a>"
      ]
    },
    {
      "cell_type": "markdown",
      "source": [
        "# **Cari rata rata harga buku**"
      ],
      "metadata": {
        "id": "GGvBNx_2bBSn"
      }
    },
    {
      "cell_type": "code",
      "execution_count": null,
      "metadata": {
        "colab": {
          "base_uri": "https://localhost:8080/"
        },
        "id": "yImeSfJRWINS",
        "outputId": "d57f2474-d17b-4d54-f751-2cbd43b99509"
      },
      "outputs": [
        {
          "output_type": "stream",
          "name": "stdout",
          "text": [
            "Rata-rata harga buku adalah: 40.64\n"
          ]
        }
      ],
      "source": [
        "import pandas as pd\n",
        "\n",
        "# Load the dataset\n",
        "df = pd.read_csv('/content/tugas2-scrapping.csv')\n",
        "\n",
        "df['harga'] = df['harga'].str.split('\\n').str[0].str.replace('£', '').astype(float)\n",
        "\n",
        "df['rating'] = df['rating'].str.split(' ').str[-1]\n",
        "\n",
        "#kalkulasi rata rata harga buku\n",
        "average_price = df['harga'].mean()\n",
        "print(f\"Rata-rata harga buku adalah: {average_price:.2f}\")\n"
      ]
    },
    {
      "cell_type": "markdown",
      "source": [
        "# **Cari jumlah buku yang rating 5**"
      ],
      "metadata": {
        "id": "834f4pkTaDxA"
      }
    },
    {
      "cell_type": "code",
      "source": [
        "import re\n",
        "raw = \" \".join(df['rating'].astype(str).tolist())\n",
        "\n",
        "# Cari semua rating (One, Two, Three, Four, Five)\n",
        "ratings = re.findall(r\"\\b(One|Two|Three|Four|Five)\\b\", raw)\n",
        "\n",
        "# Hitung jumlah \"Five\"\n",
        "five_count = ratings.count(\"Five\")\n",
        "\n",
        "print(\"Jumlah buku dengan rating Five:\", five_count)\n"
      ],
      "metadata": {
        "colab": {
          "base_uri": "https://localhost:8080/"
        },
        "id": "bnjdPVZgZ7Mx",
        "outputId": "8584eba0-68e7-4423-f8db-114f6a35d239"
      },
      "execution_count": null,
      "outputs": [
        {
          "output_type": "stream",
          "name": "stdout",
          "text": [
            "Jumlah buku dengan rating Five: 14\n"
          ]
        }
      ]
    },
    {
      "cell_type": "markdown",
      "source": [],
      "metadata": {
        "id": "Wq_V4a1wbLoN"
      }
    },
    {
      "cell_type": "code",
      "source": [],
      "metadata": {
        "id": "Dv7eJAKfbMJv"
      },
      "execution_count": null,
      "outputs": []
    },
    {
      "cell_type": "code",
      "source": [],
      "metadata": {
        "id": "PxMrfAidbMTG"
      },
      "execution_count": null,
      "outputs": []
    }
  ]
}